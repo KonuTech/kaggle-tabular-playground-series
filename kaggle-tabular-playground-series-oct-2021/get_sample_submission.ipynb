{
 "cells": [
  {
   "cell_type": "raw",
   "source": [
    "python scripts\\unzip.py inputs\\tabular-playground-series-oct-2021.zip"
   ],
   "metadata": {
    "collapsed": false,
    "pycharm": {
     "name": "#%% raw\n"
    }
   },
   "execution_count": 3
  },
  {
   "cell_type": "code",
   "execution_count": 1,
   "outputs": [],
   "source": [
    "import os"
   ],
   "metadata": {
    "collapsed": false,
    "pycharm": {
     "name": "#%%\n"
    }
   }
  },
  {
   "cell_type": "code",
   "execution_count": 4,
   "outputs": [
    {
     "data": {
      "text/plain": "'C:\\\\Users\\\\KonuTech\\\\DataSpellProjects\\\\kaggle-tabular-playground-series\\\\kaggle-tabular-playground-series-oct-2021'"
     },
     "execution_count": 4,
     "metadata": {},
     "output_type": "execute_result"
    }
   ],
   "source": [
    "os.getcwd()"
   ],
   "metadata": {
    "collapsed": false,
    "pycharm": {
     "name": "#%%\n"
    }
   }
  },
  {
   "cell_type": "code",
   "execution_count": 5,
   "metadata": {
    "collapsed": true
   },
   "outputs": [
    {
     "name": "stdout",
     "output_type": "stream",
     "text": [
      "Successfully submitted to Tabular Playground Series - Oct 2021\n"
     ]
    },
    {
     "name": "stderr",
     "output_type": "stream",
     "text": [
      "\n",
      "  0%|          | 0.00/5.72M [00:00<?, ?B/s]\n",
      "  2%|1         | 88.0k/5.72M [00:00<00:06, 850kB/s]\n",
      "  9%|8         | 512k/5.72M [00:00<00:01, 2.82MB/s]\n",
      " 15%|#5        | 904k/5.72M [00:00<00:01, 3.17MB/s]\n",
      " 24%|##4       | 1.40M/5.72M [00:00<00:01, 3.95MB/s]\n",
      " 31%|###1      | 1.78M/5.72M [00:00<00:01, 3.89MB/s]\n",
      " 38%|###7      | 2.16M/5.72M [00:01<00:02, 1.76MB/s]\n",
      " 44%|####3     | 2.51M/5.72M [00:01<00:01, 2.09MB/s]\n",
      " 50%|####9     | 2.86M/5.72M [00:01<00:01, 2.41MB/s]\n",
      " 56%|#####6    | 3.21M/5.72M [00:01<00:00, 2.68MB/s]\n",
      " 62%|######2   | 3.56M/5.72M [00:01<00:00, 2.92MB/s]\n",
      " 68%|######8   | 3.91M/5.72M [00:01<00:00, 3.10MB/s]\n",
      " 75%|#######4  | 4.27M/5.72M [00:01<00:00, 3.25MB/s]\n",
      " 81%|########  | 4.62M/5.72M [00:01<00:00, 3.35MB/s]\n",
      " 87%|########6 | 4.96M/5.72M [00:01<00:00, 3.15MB/s]\n",
      " 95%|#########4| 5.43M/5.72M [00:01<00:00, 3.61MB/s]\n",
      "100%|##########| 5.72M/5.72M [00:02<00:00, 2.02MB/s]\n"
     ]
    }
   ],
   "source": [
    "! kaggle competitions submit tabular-playground-series-oct-2021 -f inputs\\sample_submission.csv -m \"Sample submission\""
   ]
  },
  {
   "cell_type": "code",
   "execution_count": 6,
   "outputs": [],
   "source": [],
   "metadata": {
    "collapsed": false,
    "pycharm": {
     "name": "#%%\n"
    }
   }
  }
 ],
 "metadata": {
  "kernelspec": {
   "display_name": "Python 3",
   "language": "python",
   "name": "python3"
  },
  "language_info": {
   "codemirror_mode": {
    "name": "ipython",
    "version": 2
   },
   "file_extension": ".py",
   "mimetype": "text/x-python",
   "name": "python",
   "nbconvert_exporter": "python",
   "pygments_lexer": "ipython2",
   "version": "2.7.6"
  }
 },
 "nbformat": 4,
 "nbformat_minor": 0
}