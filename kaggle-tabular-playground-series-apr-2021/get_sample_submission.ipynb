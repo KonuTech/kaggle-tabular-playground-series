{
 "cells": [
  {
   "cell_type": "raw",
   "source": [
    "python scripts\\unzip.py inputs\\tabular-playground-series-nov-2021.zip"
   ],
   "metadata": {
    "collapsed": false,
    "pycharm": {
     "name": "#%% raw\n"
    }
   }
  },
  {
   "cell_type": "code",
   "execution_count": 4,
   "outputs": [],
   "source": [
    "import os"
   ],
   "metadata": {
    "collapsed": false,
    "pycharm": {
     "name": "#%%\n"
    }
   }
  },
  {
   "cell_type": "code",
   "execution_count": 5,
   "outputs": [
    {
     "data": {
      "text/plain": "'C:\\\\Users\\\\KonuTech\\\\DataSpellProjects\\\\kaggle-tabular-playground-series\\\\kaggle-tabular-playground-series-nov-2021'"
     },
     "execution_count": 5,
     "metadata": {},
     "output_type": "execute_result"
    }
   ],
   "source": [
    "os.getcwd()"
   ],
   "metadata": {
    "collapsed": false,
    "pycharm": {
     "name": "#%%\n"
    }
   }
  },
  {
   "cell_type": "code",
   "execution_count": 6,
   "metadata": {
    "collapsed": true
   },
   "outputs": [
    {
     "name": "stdout",
     "output_type": "stream",
     "text": [
      "Successfully submitted to Tabular Playground Series - Nov 2021"
     ]
    },
    {
     "name": "stderr",
     "output_type": "stream",
     "text": [
      "\n",
      "  0%|          | 0.00/5.80M [00:00<?, ?B/s]\n",
      "  2%|1         | 96.0k/5.80M [00:00<00:06, 919kB/s]\n",
      " 11%|#1        | 664k/5.80M [00:00<00:01, 3.60MB/s]\n",
      " 17%|#7        | 1.01M/5.80M [00:00<00:01, 3.62MB/s]\n",
      " 24%|##3       | 1.37M/5.80M [00:00<00:01, 3.65MB/s]\n",
      " 30%|##9       | 1.72M/5.80M [00:00<00:01, 3.65MB/s]\n",
      " 36%|###5      | 2.07M/5.80M [00:01<00:02, 1.61MB/s]\n",
      " 42%|####1     | 2.42M/5.80M [00:01<00:02, 1.29MB/s]\n",
      " 49%|####9     | 2.87M/5.80M [00:01<00:01, 1.75MB/s]\n",
      " 56%|#####5    | 3.23M/5.80M [00:01<00:01, 2.09MB/s]\n",
      " 62%|######1   | 3.59M/5.80M [00:01<00:00, 2.37MB/s]\n",
      " 68%|######7   | 3.94M/5.80M [00:01<00:00, 2.65MB/s]\n",
      " 74%|#######3  | 4.27M/5.80M [00:01<00:00, 2.75MB/s]\n",
      " 81%|########  | 4.70M/5.80M [00:02<00:00, 3.17MB/s]\n",
      " 87%|########7 | 5.05M/5.80M [00:02<00:00, 3.32MB/s]\n",
      " 93%|#########3| 5.41M/5.80M [00:02<00:00, 3.37MB/s]\n",
      "100%|#########9| 5.77M/5.80M [00:02<00:00, 3.47MB/s]\n",
      "100%|##########| 5.80M/5.80M [00:03<00:00, 1.86MB/s]\n"
     ]
    },
    {
     "name": "stdout",
     "output_type": "stream",
     "text": [
      "\n"
     ]
    }
   ],
   "source": [
    "! kaggle competitions submit tabular-playground-series-nov-2021 -f inputs\\sample_submission.csv -m \"Sample submission\""
   ]
  },
  {
   "cell_type": "code",
   "execution_count": 6,
   "outputs": [],
   "source": [],
   "metadata": {
    "collapsed": false,
    "pycharm": {
     "name": "#%%\n"
    }
   }
  }
 ],
 "metadata": {
  "kernelspec": {
   "display_name": "Python 3",
   "language": "python",
   "name": "python3"
  },
  "language_info": {
   "codemirror_mode": {
    "name": "ipython",
    "version": 2
   },
   "file_extension": ".py",
   "mimetype": "text/x-python",
   "name": "python",
   "nbconvert_exporter": "python",
   "pygments_lexer": "ipython2",
   "version": "2.7.6"
  }
 },
 "nbformat": 4,
 "nbformat_minor": 0
}