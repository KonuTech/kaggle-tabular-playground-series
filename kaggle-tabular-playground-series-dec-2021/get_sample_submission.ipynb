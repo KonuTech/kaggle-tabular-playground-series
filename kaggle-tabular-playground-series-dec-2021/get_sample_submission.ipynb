{
 "cells": [
  {
   "cell_type": "code",
   "execution_count": 1,
   "outputs": [],
   "source": [
    "import os"
   ],
   "metadata": {
    "collapsed": false,
    "pycharm": {
     "name": "#%%\n"
    }
   }
  },
  {
   "cell_type": "code",
   "execution_count": 3,
   "outputs": [
    {
     "data": {
      "text/plain": "'C:\\\\Users\\\\KonuTech\\\\DataSpellProjects\\\\kaggle-tabular-playground-series\\\\kaggle-tabular-playground-series-dec-2021'"
     },
     "execution_count": 3,
     "metadata": {},
     "output_type": "execute_result"
    }
   ],
   "source": [
    "os.getcwd()"
   ],
   "metadata": {
    "collapsed": false,
    "pycharm": {
     "name": "#%%\n"
    }
   }
  },
  {
   "cell_type": "code",
   "execution_count": 4,
   "metadata": {
    "collapsed": true
   },
   "outputs": [
    {
     "name": "stdout",
     "output_type": "stream",
     "text": [
      "Successfully submitted to Tabular Playground Series - Dec 2021\n"
     ]
    },
    {
     "name": "stderr",
     "output_type": "stream",
     "text": [
      "\n",
      "  0%|          | 0.00/10.5M [00:00<?, ?B/s]\n",
      "  1%|          | 80.0k/10.5M [00:00<00:14, 764kB/s]\n",
      "  7%|7         | 792k/10.5M [00:00<00:06, 1.65MB/s]\n",
      " 11%|#         | 1.13M/10.5M [00:00<00:04, 2.13MB/s]\n",
      " 15%|#4        | 1.53M/10.5M [00:00<00:03, 2.61MB/s]\n",
      " 18%|#7        | 1.87M/10.5M [00:00<00:03, 2.82MB/s]\n",
      " 21%|##1       | 2.25M/10.5M [00:00<00:02, 3.14MB/s]\n",
      " 25%|##4       | 2.60M/10.5M [00:01<00:02, 3.27MB/s]\n",
      " 28%|##8       | 2.95M/10.5M [00:01<00:02, 3.37MB/s]\n",
      " 32%|###1      | 3.31M/10.5M [00:01<00:02, 3.45MB/s]\n",
      " 35%|###5      | 3.67M/10.5M [00:01<00:02, 3.52MB/s]\n",
      " 38%|###8      | 4.03M/10.5M [00:01<00:01, 3.59MB/s]\n",
      " 42%|####1     | 4.39M/10.5M [00:01<00:01, 3.62MB/s]\n",
      " 45%|####5     | 4.74M/10.5M [00:01<00:01, 3.63MB/s]\n",
      " 49%|####8     | 5.09M/10.5M [00:01<00:01, 3.64MB/s]\n",
      " 52%|#####1    | 5.45M/10.5M [00:01<00:01, 3.65MB/s]\n",
      " 55%|#####5    | 5.80M/10.5M [00:01<00:01, 3.66MB/s]\n",
      " 59%|#####8    | 6.15M/10.5M [00:02<00:01, 3.66MB/s]\n",
      " 62%|######1   | 6.50M/10.5M [00:02<00:01, 3.67MB/s]\n",
      " 65%|######5   | 6.85M/10.5M [00:02<00:01, 3.65MB/s]\n",
      " 69%|######8   | 7.21M/10.5M [00:02<00:00, 3.67MB/s]\n",
      " 72%|#######2  | 7.56M/10.5M [00:02<00:00, 3.68MB/s]\n",
      " 75%|#######5  | 7.91M/10.5M [00:02<00:00, 3.68MB/s]\n",
      " 79%|#######8  | 8.27M/10.5M [00:02<00:00, 3.64MB/s]\n",
      " 82%|########2 | 8.62M/10.5M [00:02<00:00, 3.67MB/s]\n",
      " 86%|########5 | 8.98M/10.5M [00:02<00:00, 3.68MB/s]\n",
      " 89%|########8 | 9.34M/10.5M [00:02<00:00, 3.64MB/s]\n",
      " 92%|#########2| 9.70M/10.5M [00:03<00:00, 3.67MB/s]\n",
      " 96%|#########5| 10.1M/10.5M [00:03<00:00, 3.67MB/s]\n",
      " 99%|#########9| 10.4M/10.5M [00:03<00:00, 3.68MB/s]\n",
      "100%|##########| 10.5M/10.5M [00:04<00:00, 2.59MB/s]\n"
     ]
    }
   ],
   "source": [
    "! kaggle competitions submit tabular-playground-series-dec-2021 -f inputs\\sample_submission.csv -m \"Sample submission\""
   ]
  },
  {
   "cell_type": "code",
   "execution_count": null,
   "outputs": [],
   "source": [],
   "metadata": {
    "collapsed": false,
    "pycharm": {
     "name": "#%%\n"
    }
   }
  }
 ],
 "metadata": {
  "kernelspec": {
   "display_name": "Python 3",
   "language": "python",
   "name": "python3"
  },
  "language_info": {
   "codemirror_mode": {
    "name": "ipython",
    "version": 2
   },
   "file_extension": ".py",
   "mimetype": "text/x-python",
   "name": "python",
   "nbconvert_exporter": "python",
   "pygments_lexer": "ipython2",
   "version": "2.7.6"
  }
 },
 "nbformat": 4,
 "nbformat_minor": 0
}